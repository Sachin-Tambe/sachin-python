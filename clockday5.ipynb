{
 "cells": [
  {
   "cell_type": "code",
   "execution_count": 3,
   "id": "4b8022bd-51e9-482d-9ed0-5d0981cb0821",
   "metadata": {},
   "outputs": [
    {
     "name": "stdin",
     "output_type": "stream",
     "text": [
      "Enter the number of minutes:  0\n",
      "Enter the number of seconds:  10\n"
     ]
    },
    {
     "name": "stdout",
     "output_type": "stream",
     "text": [
      "Time's up!          \n"
     ]
    }
   ],
   "source": [
    "import time  # Import the time module to use sleep function for countdown\n",
    "\n",
    "# Define a function to set the timer\n",
    "def timer(minutes, seconds):\n",
    "    # Convert total time to seconds\n",
    "    total_seconds = minutes * 60 + seconds\n",
    "    \n",
    "    # Loop until total_seconds reaches zero\n",
    "    while total_seconds >= 0:\n",
    "        # Use divmod to calculate minutes and seconds from total_seconds\n",
    "        mins, secs = divmod(total_seconds, 60)\n",
    "        \n",
    "        # Format the time as MM:SS with leading zeros\n",
    "        timer_display = '{:02d}:{:02d}'.format(mins, secs)\n",
    "        \n",
    "        # Print the timer display, end='\\r' ensures it overwrites the previous print on the same line\n",
    "        print(timer_display, end='\\r')\n",
    "        \n",
    "        # Sleep for 1 second\n",
    "        time.sleep(1)\n",
    "        \n",
    "        # Decrement the total_seconds by 1\n",
    "        total_seconds -= 1\n",
    "    \n",
    "    # Print the message when the timer ends, extra spaces ensure the overwrite clears previous display\n",
    "    print(\"Time's up!          \")\n",
    "\n",
    "# Prompt the user to enter the number of minutes\n",
    "minutes = int(input(\"Enter the number of minutes: \"))\n",
    "\n",
    "# Prompt the user to enter the number of seconds\n",
    "seconds = int(input(\"Enter the number of seconds: \"))\n",
    "\n",
    "# Call the timer function with user input\n",
    "timer(minutes, seconds)\n"
   ]
  },
  {
   "cell_type": "code",
   "execution_count": null,
   "id": "98a7446f-90ba-493c-befd-d5a8b7b196ca",
   "metadata": {},
   "outputs": [
    {
     "name": "stdin",
     "output_type": "stream",
     "text": [
      "enter a number of minites  1\n",
      "enter a number of seconds  0\n"
     ]
    },
    {
     "name": "stdout",
     "output_type": "stream",
     "text": [
      "00:19\r"
     ]
    }
   ],
   "source": [
    "import time \n",
    "minites = int(input(\"enter a number of minites \"))\n",
    "seconds = int(input(\"enter a number of seconds \"))\n",
    "total_second =  minites * 60 + seconds \n",
    "while total_second  >  0  :\n",
    "    minis = total_second // 60 \n",
    "    secs = total_second % 60 \n",
    "    timer_display = '{:02d}:{:02d}'.format(minis , secs)\n",
    "    print(timer_display , end='\\r')\n",
    "    time.sleep(1)\n",
    "    total_second -= 1\n",
    "print(\"time up\")\n",
    "    "
   ]
  },
  {
   "cell_type": "code",
   "execution_count": null,
   "id": "2f901d92-fc5b-4453-9e2f-094ac2bcd10d",
   "metadata": {},
   "outputs": [],
   "source": []
  }
 ],
 "metadata": {
  "kernelspec": {
   "display_name": "Python 3 (ipykernel)",
   "language": "python",
   "name": "python3"
  },
  "language_info": {
   "codemirror_mode": {
    "name": "ipython",
    "version": 3
   },
   "file_extension": ".py",
   "mimetype": "text/x-python",
   "name": "python",
   "nbconvert_exporter": "python",
   "pygments_lexer": "ipython3",
   "version": "3.12.3"
  }
 },
 "nbformat": 4,
 "nbformat_minor": 5
}
