{
 "cells": [
  {
   "cell_type": "code",
   "execution_count": 3,
   "id": "6e2190b2",
   "metadata": {
    "scrolled": false
   },
   "outputs": [
    {
     "name": "stdout",
     "output_type": "stream",
     "text": [
      "hello World \n"
     ]
    }
   ],
   "source": [
    "print(\"hello World \")"
   ]
  },
  {
   "cell_type": "code",
   "execution_count": 4,
   "id": "f469b5d8",
   "metadata": {},
   "outputs": [
    {
     "name": "stdout",
     "output_type": "stream",
     "text": [
      "hello sachin\n"
     ]
    }
   ],
   "source": [
    "print(\"hello sachin\")"
   ]
  },
  {
   "cell_type": "code",
   "execution_count": 5,
   "id": "5d097a03",
   "metadata": {},
   "outputs": [
    {
     "name": "stdout",
     "output_type": "stream",
     "text": [
      "hello sachin tambe\n"
     ]
    }
   ],
   "source": [
    "print(\"hello sachin tambe\")"
   ]
  },
  {
   "cell_type": "code",
   "execution_count": 7,
   "id": "34eec37e",
   "metadata": {},
   "outputs": [
    {
     "name": "stdout",
     "output_type": "stream",
     "text": [
      "hello sachin\n"
     ]
    }
   ],
   "source": [
    "username = \"sahin tambe \"\n",
    "print(\"hello\" ,  username)"
   ]
  },
  {
   "cell_type": "code",
   "execution_count": 3,
   "id": "d5ea93ae",
   "metadata": {},
   "outputs": [
    {
     "name": "stdout",
     "output_type": "stream",
     "text": [
      "Ener Your Name :=\n",
      "\n"
     ]
    }
   ],
   "source": [
    "username = input(\"Ener Your Name :=\")\n",
    "print(username)"
   ]
  },
  {
   "cell_type": "code",
   "execution_count": 5,
   "id": "66dbd52e",
   "metadata": {},
   "outputs": [
    {
     "name": "stdout",
     "output_type": "stream",
     "text": [
      "hello welcome to our classe\n",
      "enter a namesachin\n",
      "hello sachin\n",
      "enter an phone no 123456\n",
      "phone no saved sucessfully\n",
      "enter a  email id sachin\n",
      "email id saved sucesfully\n",
      "which course you intrested data sciense\n",
      "which location you prefered andheri\n",
      "please conform your detail\n",
      "your name is :=  sachin\n",
      "your phone no is :=  123456\n",
      "your email id is := sachin\n",
      "you intrested in :=  data sciense\n",
      "your prfered location is :=  andheri\n",
      "thank you we will contact you \n"
     ]
    }
   ],
   "source": [
    "#welcome the student \n",
    "print(\"hello welcome to our classe\")\n",
    "#get the student name \n",
    "name = input(\"enter a name\")\n",
    "#greeting the student \n",
    "print(\"hello\" , name)\n",
    "#get the phone no \n",
    "phone_no = input(\"enter an phone no \")\n",
    "print(\"phone no saved sucessfully\")\n",
    "#get the email \n",
    "email_id = input(\"enter a  email id \")\n",
    "print(\"email id saved sucesfully\")\n",
    "#get the course \n",
    "course = input(\"which course you intrested \")\n",
    "#get the location \n",
    "location = input(\"which location you prefered \")\n",
    "print(\"please conform your detail\")\n",
    "print(\"your name is := \" , name )\n",
    "print(\"your phone no is := \" , phone_no)\n",
    "print(\"your email id is :=\" , email_id )\n",
    "print(\"you intrested in := \" , course )\n",
    "print(\"your prfered location is := \" , location )\n",
    "print(\"thank you we will contact you \")\n",
    "\n"
   ]
  },
  {
   "cell_type": "code",
   "execution_count": null,
   "id": "d48645ac",
   "metadata": {},
   "outputs": [],
   "source": []
  }
 ],
 "metadata": {
  "kernelspec": {
   "display_name": "Python 3 (ipykernel)",
   "language": "python",
   "name": "python3"
  },
  "language_info": {
   "codemirror_mode": {
    "name": "ipython",
    "version": 3
   },
   "file_extension": ".py",
   "mimetype": "text/x-python",
   "name": "python",
   "nbconvert_exporter": "python",
   "pygments_lexer": "ipython3",
   "version": "3.11.5"
  }
 },
 "nbformat": 4,
 "nbformat_minor": 5
}
