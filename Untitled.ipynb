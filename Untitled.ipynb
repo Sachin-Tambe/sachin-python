{
 "cells": [
  {
   "cell_type": "code",
   "execution_count": 1,
   "id": "fda056e8",
   "metadata": {},
   "outputs": [
    {
     "name": "stdout",
     "output_type": "stream",
     "text": [
      "enter Adhar number 467\n",
      "enter yor name sachin\n",
      "enter your birth date 4567\n",
      "enter your addressghatkopar\n",
      "enter your mobile number 907\n",
      "enter your emailsachin@\n",
      "your information saved sucessfully\n",
      "please verify your information\n",
      "address :=  467\n",
      "name := \n"
     ]
    }
   ],
   "source": [
    "add_num =  int(input(\"enter Adhar number \"))\n",
    "name = input(\"enter yor name \")\n",
    "b_date =  int(input(\"enter your birth date \"))\n",
    "add= input(\"enter your address\")\n",
    "m_num =  int(input(\"enter your mobile number \"))\n",
    "email = (input(\"enter your email\"))\n",
    "\n",
    "print(\"your information saved sucessfully\")\n",
    "\n",
    "print(\"please verify your information\")\n",
    "print(\"address := \" , add_num)\n",
    "print(\"name := \" , )\n",
    " "
   ]
  },
  {
   "cell_type": "code",
   "execution_count": 6,
   "id": "a350a7dc",
   "metadata": {},
   "outputs": [
    {
     "name": "stdout",
     "output_type": "stream",
     "text": [
      "hello sir welcome to the Mumbai || which is world famous for the vada-pav \n",
      "what is your good name sirsachin\n",
      "hello sachin welcome to the mumbai\n",
      "What is Your Buget for the vada-pav500\n",
      "Dear sachin Go To The Taj restaurant \n"
     ]
    }
   ],
   "source": [
    "# welcome \n",
    "print(\"hello sir welcome to the Mumbai || which is world famous for the vada-pav \")\n",
    "# get the name \n",
    "name = input(\"what is your good name sir\")\n",
    "# greeting the with name \n",
    "print(\"hello\" , name , \"welcome to the mumbai\")\n",
    "# get the buget \n",
    "vada_pav_buget = int(input(\"What is Your Buget for the vada-pav\"))\n",
    "if vada_pav_buget >= 500 :\n",
    "    print(\"Dear\" , name , \"Go To The Taj restaurant \")\n",
    "elif vada_pav_buget  >= 300 and vada_pav_buget  < 500 :\n",
    "    print(\"Dear\" , name , \"Go To The Jw Maritoo restaurant\")\n",
    "elif vada_pav_buget  >= 100 and vada_pav_buget  < 300 :\n",
    "    print(\"Dear\" , name , \"Go To The udipi restaurant\")\n",
    "elif vada_pav_buget  >= 20 and vada_pav_buget  < 100 :\n",
    "    print(\"Dear\" , name , \"Go To The any thela or Tapri\")\n",
    "else :\n",
    "    print(\"Dear\" , name , \"You Need At Least 20Rs Buget \")"
   ]
  },
  {
   "cell_type": "code",
   "execution_count": 3,
   "id": "f2608468",
   "metadata": {
    "scrolled": false
   },
   "outputs": [
    {
     "name": "stdout",
     "output_type": "stream",
     "text": [
      "welcome to our store || which  is the famous for the laptops and  mobiles \n",
      "Enter your good name here := sachin\n",
      "good morning  sachin\n",
      "For See Laptops Enter 1 and For See mobiles Enter 2 2\n",
      "here are some Mobiles \n",
      "Enter your Buget For Laptop B/W 30,000 to 2,00000100000\n",
      "here a some good mobiles in this buget\n",
      "s23 ultra\n",
      "Apple iphone 13 \n"
     ]
    }
   ],
   "source": [
    "print(\"welcome to our store || which  is the famous for the laptops and  mobiles \")\n",
    "name =  input((\"Enter your good name here := \"))\n",
    "print(\"good morning \" , name )\n",
    "choise =  int(input(\"For See Laptops Enter 1 and For See mobiles Enter 2 \"))\n",
    "if choise == 1 :\n",
    "    print(\"here are some laptops \")\n",
    "    buget =  int(input(\"Enter your Buget For Laptop B/W 30,000 to 2,00000\"))\n",
    "    if buget > 150000 :\n",
    "        print(\"here a some good laptops in this buget\")\n",
    "        print(\"HP VICTUS \")\n",
    "        print(\"Apple MAC Book Pro \")\n",
    "    elif buget >= 100000 and buget < 150000 :\n",
    "        print(\"here a some good laptops in this buget\")\n",
    "        print(\"Dell pro\")\n",
    "        print(\"Apple MAC Book\")\n",
    "    elif buget >=  30000 and buget < 100000 :\n",
    "        print(\"here a some good laptops in this buget\")\n",
    "        print(\"HP fjri \")\n",
    "        print(\"lenevo \")\n",
    "    else :\n",
    "        print(\"there are no laptop availble in this buget\")\n",
    "elif choise   == 2  :\n",
    "     print(\"here are some Mobiles \")\n",
    "     buget =  int(input(\"Enter your Buget For Laptop B/W 30,000 to 2,00000\"))\n",
    "     if buget > 150000 :\n",
    "         print(\"here a some good mobiles in this buget\")\n",
    "         print(\"s24 ultra\")\n",
    "         print(\"Applei phone 14 \")\n",
    "     elif buget >= 100000 and buget < 150000 :\n",
    "         print(\"here a some good mobiles in this buget\")\n",
    "         print(\"s23 ultra\")\n",
    "         print(\"Apple iphone 13 \")\n",
    "     elif buget >=  30000 and buget < 100000 :\n",
    "         print(\"here a some good mobile in this buget\")\n",
    "         print(\"realme narzo 20 pro \")\n",
    "         print(\"i phone 6 \")\n",
    "     else :\n",
    "         print(\"thNere are no mobiles availble in this buget\")\n",
    "else : \n",
    "     print(\"you not choise write option \")"
   ]
  },
  {
   "cell_type": "code",
   "execution_count": 17,
   "id": "99e8dd1d",
   "metadata": {},
   "outputs": [
    {
     "name": "stdout",
     "output_type": "stream",
     "text": [
      "Hello sir Welcome to Head and Tails Game\n",
      "Enter Your CHoise Head Or Tailshead\n",
      "You Chose  Head\n",
      "Result Is  head\n",
      "You Win\n"
     ]
    }
   ],
   "source": [
    "import random \n",
    "print(\"Hello sir Welcome to Head and Tails Game\")\n",
    "user_Choise =  input(\"Enter Your CHoise Head Or Tails\")\n",
    "user_Choise.title()\n",
    "print(\"You Chose \",  user_Choise.title() )\n",
    "\n",
    "if random.choice('ht') == 'h' :\n",
    "    result = 'head' \n",
    "else :\n",
    "    result = 'tail'\n",
    "    \n",
    "print(\"Result Is \" , result) \n",
    "\n",
    "if user_Choise.lower() == result.lower() :\n",
    "    print(\"You Win\")\n",
    "else :\n",
    "    print(\"You Lose\")\n",
    "\n",
    "\n",
    "\n"
   ]
  },
  {
   "cell_type": "code",
   "execution_count": 18,
   "id": "4020274d",
   "metadata": {},
   "outputs": [
    {
     "name": "stdout",
     "output_type": "stream",
     "text": [
      "Hello , Welcome To The Dise Roll Game \n",
      "Enter The Number B/W 1-6 For Dise Roll 2\n",
      "You Chose  2\n",
      "Result IS  3\n",
      "You Lose\n"
     ]
    }
   ],
   "source": [
    "#welcome the user \n",
    "print(\"Hello , Welcome To The Dise Roll Game \")\n",
    "#Enter Your Prediction \n",
    "user_input = int(input(\"Enter The Number B/W 1-6 For Dise Roll \"))\n",
    "print(\"You Chose \"  , user_input)\n",
    "#dise roll \n",
    "\n",
    "import random\n",
    "result =  random.randrange(1,6)\n",
    "print(\"Result IS \" , result )\n",
    "\n",
    "#result\n",
    "if user_input == result :\n",
    "    print(\"You win \")\n",
    "else :\n",
    "    print(\"You Lose\")\n",
    "\n"
   ]
  },
  {
   "cell_type": "code",
   "execution_count": 1,
   "id": "a15c68ff",
   "metadata": {},
   "outputs": [
    {
     "name": "stdout",
     "output_type": "stream",
     "text": [
      "Hello , Welcome To The Dise Roll Game \n",
      "Enter The Number B/W 1-6 For First Dise Roll 5\n",
      "You Chose For First Dise  5\n",
      "Enter The Number B/W 1-6 For Second Dise Roll 6\n",
      "You Chose For Second Dise  6\n",
      "Result  For First Dise  2\n",
      "Result For Second Dise   4\n",
      "You Lose\n"
     ]
    }
   ],
   "source": [
    "#welcome the user \n",
    "print(\"Hello , Welcome To The Dise Roll Game \")\n",
    "#Enter Your Prediction \n",
    "user_input1 = int(input(\"Enter The Number B/W 1-6 For First Dise Roll \"))\n",
    "print(\"You Chose For First Dise \"  , user_input1) \n",
    "user_input2 = int(input(\"Enter The Number B/W 1-6 For Second Dise Roll \"))\n",
    "print(\"You Chose For Second Dise \"  , user_input2) \n",
    "#dise roll \n",
    "\n",
    "import random\n",
    "result_FirstDise =  random.randrange(1,6)\n",
    "print(\"Result  For First Dise \" , result_FirstDise )\n",
    "result_SecondDise =  random.randrange(1,6)\n",
    "print(\"Result For Second Dise  \" , result_SecondDise )\n",
    "#result\n",
    "result = result_FirstDise + result_SecondDise\n",
    "if user_input1 + user_input2  == result :\n",
    "    print(\"You win \")\n",
    "else :\n",
    "    print(\"You Lose\")"
   ]
  },
  {
   "cell_type": "code",
   "execution_count": 3,
   "id": "c4499f74",
   "metadata": {},
   "outputs": [
    {
     "name": "stdout",
     "output_type": "stream",
     "text": [
      "hello  , Welcome Sir\n",
      "Enter a Number To print The Tabel 5\n",
      "5 X 1 = 5\n",
      "5 X 2 = 10\n",
      "5 X 3 = 15\n",
      "5 X 4 = 20\n",
      "5 X 5 = 25\n",
      "5 X 6 = 30\n",
      "5 X 7 = 35\n",
      "5 X 8 = 40\n",
      "5 X 9 = 45\n",
      "5 X 10 = 50\n"
     ]
    }
   ],
   "source": [
    "print(\"hello  , Welcome Sir\")\n",
    "multiplication_tabel = int(input(\"Enter a Number To print The Tabel \"))\n",
    "for i in range(1 , 11) :\n",
    "    print(multiplication_tabel  , 'X' , i  , '=' , multiplication_tabel* i )"
   ]
  },
  {
   "cell_type": "code",
   "execution_count": 12,
   "id": "465bbe70",
   "metadata": {},
   "outputs": [
    {
     "name": "stdout",
     "output_type": "stream",
     "text": [
      "hello  , Welcome Sir\n",
      "Enter a Number To print The cude 5\n",
      "1 ^ 3 = 1\n",
      "2 ^ 3 = 8\n",
      "3 ^ 3 = 27\n",
      "4 ^ 3 = 64\n",
      "5 ^ 3 = 125\n"
     ]
    }
   ],
   "source": [
    "print(\"hello  , Welcome Sir\")\n",
    "multiplication_tabel = int(input(\"Enter a Number To print The cude \"))\n",
    "for i in range(1 ,multiplication_tabel+1 ) :\n",
    "    cude = i*i*i\n",
    "    print(i ,'^','3', '=' , cude )\n",
    "    "
   ]
  },
  {
   "cell_type": "code",
   "execution_count": 5,
   "id": "ce44fc54",
   "metadata": {},
   "outputs": [
    {
     "name": "stdout",
     "output_type": "stream",
     "text": [
      "hello  , Welcome Sir\n",
      "Enter a Number To print The factorial  5\n",
      "factorial of the  5 is 120\n"
     ]
    }
   ],
   "source": [
    "print(\"hello  , Welcome Sir\")\n",
    "input_num  = int(input(\"Enter a Number To print The factorial  \"))\n",
    "result = 1 \n",
    "for i in range(1 ,  input_num+1  ) :\n",
    "    result = result * i \n",
    "print('factorial of the ' , input_num , 'is' ,  result)\n",
    "result = 1  \n",
    "\n",
    "\n",
    "    "
   ]
  },
  {
   "cell_type": "code",
   "execution_count": 2,
   "id": "ea29e04f",
   "metadata": {},
   "outputs": [
    {
     "ename": "SyntaxError",
     "evalue": "incomplete input (3667180917.py, line 11)",
     "output_type": "error",
     "traceback": [
      "\u001b[1;36m  Cell \u001b[1;32mIn[2], line 11\u001b[1;36m\u001b[0m\n\u001b[1;33m    \u001b[0m\n\u001b[1;37m    ^\u001b[0m\n\u001b[1;31mSyntaxError\u001b[0m\u001b[1;31m:\u001b[0m incomplete input\n"
     ]
    }
   ],
   "source": [
    "passw = input(\"Enter a Password\")\n",
    "# get the password\n",
    "if len(passw) < 8 :\n",
    "    print(\"Password will be greater than 8\")\n",
    "else :\n",
    "#password must be 1 alphabate \n",
    "# minimum 1 number \n",
    "#minimum 1 special charectar \n",
    "\n",
    "\n",
    "\n"
   ]
  },
  {
   "cell_type": "code",
   "execution_count": null,
   "id": "8ccdbede",
   "metadata": {},
   "outputs": [],
   "source": []
  }
 ],
 "metadata": {
  "kernelspec": {
   "display_name": "Python 3 (ipykernel)",
   "language": "python",
   "name": "python3"
  },
  "language_info": {
   "codemirror_mode": {
    "name": "ipython",
    "version": 3
   },
   "file_extension": ".py",
   "mimetype": "text/x-python",
   "name": "python",
   "nbconvert_exporter": "python",
   "pygments_lexer": "ipython3",
   "version": "3.11.5"
  }
 },
 "nbformat": 4,
 "nbformat_minor": 5
}
