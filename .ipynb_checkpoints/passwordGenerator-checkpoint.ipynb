{
 "cells": [
  {
   "cell_type": "code",
   "execution_count": 111,
   "id": "e24b0841",
   "metadata": {},
   "outputs": [
    {
     "name": "stdout",
     "output_type": "stream",
     "text": [
      "['0', '4', '7', 'S', 'z', 'q', 'a', 'x', 's', 'x', '^', ';']\n"
     ]
    }
   ],
   "source": [
    "import random \n",
    "import string\n",
    "name = random.choices('0123456789', k=3)\n",
    "#print(name)\n",
    "capitals = random.choices(string.ascii_uppercase , k=1)\n",
    "#print(capitals)\n",
    "lower = random.choices(string.ascii_lowercase , k=6)\n",
    "#print(lower)\n",
    "special_char = random.choices(string.punctuation , k=2) \n",
    "#print(special_char)\n",
    "password = name + capitals + lower + special_char\n",
    "passw = str(password)\n",
    "print(passw)"
   ]
  },
  {
   "cell_type": "code",
   "execution_count": null,
   "id": "a9e63c9c",
   "metadata": {},
   "outputs": [],
   "source": [
    "user_password = input(\"Enter a Password\")\n",
    "is_smalCase = False \n",
    "is_uppercase = False \n",
    "is_special = False \n",
    "is_number  = False \n",
    "special = string.punctuation\n",
    "if len(user_password) >= 12 :\n",
    "    is_smalCase = any(char.isupper() for char in user_password)\n",
    "    print(is_smalCase)\n",
    "    is_uppercase = any(char.islower() for char in user_password)\n",
    "    print(is_uppercase)\n",
    "    is_number = any(char.isdigit() for char in user_password)\n",
    "    print(is_number)\n",
    "    is_special = any(char in special for char in user_password)\n",
    "    print(is_special)\n",
    "   \n",
    "else :\n",
    "    print('Password Length Must Be Greater Than 12')\n",
    "    \n",
    "\n",
    "if is_smalCase and is_uppercase and is_special and is_number :\n",
    "    print(\"Pasword Meet Requirement\")\n",
    "else :\n",
    "    print(\"password is incorrect\")\n",
    "    print(\"You can use Following password \" ,passw )"
   ]
  },
  {
   "cell_type": "code",
   "execution_count": 102,
   "id": "fc8b3a1f",
   "metadata": {},
   "outputs": [
    {
     "name": "stdout",
     "output_type": "stream",
     "text": [
      "Enter a Passwordrghrig\n",
      "False\n",
      "True\n",
      "False\n",
      "False\n"
     ]
    }
   ],
   "source": [
    "# user_password = input(\"Enter a Password\")\n",
    "# is_smalCase = False \n",
    "# is_uppercase = False \n",
    "# is_special = False \n",
    "# is_number  = False \n",
    "# is_smalCase = any(char.isupper() for char in user_password)\n",
    "# print(is_smalCase)\n",
    "# is_uppercase = any(char.islower() for char in user_password)\n",
    "# print(is_uppercase)\n",
    "# is_number = any(char.isdigit() for char in user_password)\n",
    "# print(is_number)\n",
    "# is_special = any(char in special for char in user_password)\n",
    "# print(is_special)"
   ]
  },
  {
   "cell_type": "code",
   "execution_count": 4,
   "id": "e52e72bc",
   "metadata": {
    "scrolled": true
   },
   "outputs": [
    {
     "name": "stdout",
     "output_type": "stream",
     "text": [
      "Enter a Number To Find The Fabinoci 5\n",
      "0\n",
      "1\n",
      "1\n",
      "2\n",
      "3\n"
     ]
    }
   ],
   "source": [
    "number =  int(input(\"Enter a Number To Find The Fabinoci \"))\n",
    "\n",
    "f_num = 0 \n",
    "l_num = 1 \n",
    "result = 0 \n",
    "\n",
    "for i in range(number)  :\n",
    "    print(f_num)\n",
    "    result = f_num + l_num\n",
    "    f_num = l_num \n",
    "    l_num = result \n",
    "\n",
    "\n"
   ]
  },
  {
   "cell_type": "code",
   "execution_count": null,
   "id": "1cde0e8f",
   "metadata": {},
   "outputs": [],
   "source": []
  }
 ],
 "metadata": {
  "kernelspec": {
   "display_name": "Python 3 (ipykernel)",
   "language": "python",
   "name": "python3"
  },
  "language_info": {
   "codemirror_mode": {
    "name": "ipython",
    "version": 3
   },
   "file_extension": ".py",
   "mimetype": "text/x-python",
   "name": "python",
   "nbconvert_exporter": "python",
   "pygments_lexer": "ipython3",
   "version": "3.11.5"
  }
 },
 "nbformat": 4,
 "nbformat_minor": 5
}
