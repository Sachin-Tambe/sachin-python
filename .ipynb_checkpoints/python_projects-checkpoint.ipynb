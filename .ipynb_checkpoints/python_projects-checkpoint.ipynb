{
 "cells": [
  {
   "cell_type": "code",
   "execution_count": 1,
   "id": "b51f4e07",
   "metadata": {},
   "outputs": [
    {
     "name": "stdout",
     "output_type": "stream",
     "text": [
      "enter Adhar number 1254\n",
      "enter yor name gu\n",
      "enter your birth date 896\n",
      "enter your addressfriuhg\n",
      "enter your mobile number 6665\n",
      "enter your emailrgiuhruih\n",
      "your information saved sucessfully\n",
      "please verify your information\n",
      "address :=  1254\n",
      "name := \n"
     ]
    }
   ],
   "source": [
    "   def addhar_update():\n",
    "    add_num =  int(input(\"enter Adhar number \"))\n",
    "    name = input(\"enter yor name \")\n",
    "    b_date =  int(input(\"enter your birth date \"))\n",
    "    add= input(\"enter your address\")\n",
    "    m_num =  int(input(\"enter your mobile number \"))\n",
    "    email = (input(\"enter your email\"))\n",
    "\n",
    "    print(\"your information saved sucessfully\")\n",
    "\n",
    "    print(\"please verify your information\")\n",
    "    print(\"address := \" , add_num)\n",
    "    print(\"name := \" , )\n",
    "\n",
    "addhar_update()"
   ]
  },
  {
   "cell_type": "code",
   "execution_count": 2,
   "id": "54585d67",
   "metadata": {},
   "outputs": [],
   "source": [
    "def Tea_recommender():\n",
    "    # welcome \n",
    "    print(\"hello sir welcome to the Mumbai || which is world famous for the vada-pav \")\n",
    "    # get the name \n",
    "    name = input(\"what is your good name sir\")\n",
    "    # greeting the with name \n",
    "    print(\"hello\" , name , \"welcome to the mumbai\")\n",
    "    # get the buget \n",
    "    vada_pav_buget = int(input(\"What is Your Buget for the vada-pav\"))\n",
    "    if vada_pav_buget >= 500 :\n",
    "        print(\"Dear\" , name , \"Go To The Taj restaurant \")\n",
    "    elif vada_pav_buget  >= 300 and vada_pav_buget  < 500 :\n",
    "        print(\"Dear\" , name , \"Go To The Jw Maritoo restaurant\")\n",
    "    elif vada_pav_buget  >= 100 and vada_pav_buget  < 300 :\n",
    "        print(\"Dear\" , name , \"Go To The udipi restaurant\")\n",
    "    elif vada_pav_buget  >= 20 and vada_pav_buget  < 100 :\n",
    "        print(\"Dear\" , name , \"Go To The any thela or Tapri\")\n",
    "    else :\n",
    "        print(\"Dear\" , name , \"You Need At Least 20Rs Buget \")"
   ]
  },
  {
   "cell_type": "code",
   "execution_count": 4,
   "id": "432f9b12",
   "metadata": {},
   "outputs": [],
   "source": [
    "def laptop_recomender():\n",
    "    \n",
    "    print(\"welcome to our store || which  is the famous for the laptops and  mobiles \")\n",
    "    name =  input((\"Enter your good name here := \"))\n",
    "    print(\"good morning \" , name )\n",
    "    choise =  int(input(\"For See Laptops Enter 1 and For See mobiles Enter 2 \"))\n",
    "    if choise == 1 :\n",
    "        print(\"here are some laptops \")\n",
    "        buget =  int(input(\"Enter your Buget For Laptop B/W 30,000 to 2,00000\"))\n",
    "        if buget > 150000 :\n",
    "            print(\"here a some good laptops in this buget\")\n",
    "            print(\"HP VICTUS \")\n",
    "            print(\"Apple MAC Book Pro \")\n",
    "        elif buget >= 100000 and buget < 150000 :\n",
    "            print(\"here a some good laptops in this buget\")\n",
    "            print(\"Dell pro\")\n",
    "            print(\"Apple MAC Book\")\n",
    "        elif buget >=  30000 and buget < 100000 :\n",
    "            print(\"here a some good laptops in this buget\")\n",
    "            print(\"HP fjri \")\n",
    "            print(\"lenevo \")\n",
    "        else :\n",
    "            print(\"there are no laptop availble in this buget\")\n",
    "    elif choise   == 2  :\n",
    "         print(\"here are some Mobiles \")\n",
    "         buget =  int(input(\"Enter your Buget For Laptop B/W 30,000 to 2,00000\"))\n",
    "         if buget > 150000 :\n",
    "             print(\"here a some good mobiles in this buget\")\n",
    "             print(\"s24 ultra\")\n",
    "             print(\"Applei phone 14 \")\n",
    "         elif buget >= 100000 and buget < 150000 :\n",
    "             print(\"here a some good mobiles in this buget\")\n",
    "             print(\"s23 ultra\")\n",
    "             print(\"Apple iphone 13 \")\n",
    "         elif buget >=  30000 and buget < 100000 :\n",
    "             print(\"here a some good mobile in this buget\")\n",
    "             print(\"realme narzo 20 pro \")\n",
    "             print(\"i phone 6 \")\n",
    "         else :\n",
    "             print(\"thNere are no mobiles availble in this buget\")\n",
    "    else : \n",
    "         print(\"you not choise write option \")"
   ]
  },
  {
   "cell_type": "code",
   "execution_count": 5,
   "id": "55558f19",
   "metadata": {},
   "outputs": [],
   "source": [
    "def head_tail_game():\n",
    "    import random \n",
    "    print(\"Hello sir Welcome to Head and Tails Game\")\n",
    "    user_Choise =  input(\"Enter Your CHoise Head Or Tails\")\n",
    "    user_Choise.title()\n",
    "    print(\"You Chose \",  user_Choise.title() )\n",
    "\n",
    "    if random.choice('ht') == 'h' :\n",
    "        result = 'head' \n",
    "    else :\n",
    "        result = 'tail'\n",
    "\n",
    "    print(\"Result Is \" , result) \n",
    "\n",
    "    if user_Choise.lower() == result.lower() :\n",
    "        print(\"You Win\")\n",
    "    else :\n",
    "        print(\"You Lose\")\n",
    "\n",
    "\n",
    "\n"
   ]
  },
  {
   "cell_type": "code",
   "execution_count": 6,
   "id": "f8bf54c5",
   "metadata": {},
   "outputs": [],
   "source": [
    "def dise_game():\n",
    "    #welcome the user \n",
    "    print(\"Hello , Welcome To The Dise Roll Game \")\n",
    "    #Enter Your Prediction \n",
    "    user_input = int(input(\"Enter The Number B/W 1-6 For Dise Roll \"))\n",
    "    print(\"You Chose \"  , user_input)\n",
    "    #dise roll \n",
    "\n",
    "    import random\n",
    "    result =  random.randrange(1,6)\n",
    "    print(\"Result IS \" , result )\n",
    "\n",
    "    #result\n",
    "    if user_input == result :\n",
    "        print(\"You win \")\n",
    "    else :\n",
    "        print(\"You Lose\")\n",
    "\n"
   ]
  },
  {
   "cell_type": "code",
   "execution_count": 7,
   "id": "da46837e",
   "metadata": {},
   "outputs": [],
   "source": [
    "def double_dise_game():\n",
    "    #welcome the user \n",
    "    print(\"Hello , Welcome To The Dise Roll Game \")\n",
    "    #Enter Your Prediction \n",
    "    user_input1 = int(input(\"Enter The Number B/W 1-6 For First Dise Roll \"))\n",
    "    print(\"You Chose For First Dise \"  , user_input1) \n",
    "    user_input2 = int(input(\"Enter The Number B/W 1-6 For Second Dise Roll \"))\n",
    "    print(\"You Chose For Second Dise \"  , user_input2) \n",
    "    #dise roll \n",
    "\n",
    "    import random\n",
    "    result_FirstDise =  random.randrange(1,6)\n",
    "    print(\"Result  For First Dise \" , result_FirstDise )\n",
    "    result_SecondDise =  random.randrange(1,6)\n",
    "    print(\"Result For Second Dise  \" , result_SecondDise )\n",
    "    #result\n",
    "    result = result_FirstDise + result_SecondDise\n",
    "    if user_input1 + user_input2  == result :\n",
    "        print(\"You win \")\n",
    "    else :\n",
    "        print(\"You Lose\")"
   ]
  },
  {
   "cell_type": "code",
   "execution_count": 9,
   "id": "24125926",
   "metadata": {},
   "outputs": [],
   "source": [
    "def multiplication_tabel():\n",
    "    print(\"hello  , Welcome Sir\")\n",
    "    multiplication_tabel = int(input(\"Enter a Number To print The Tabel \"))\n",
    "    for i in range(1 , 11) :\n",
    "        print(multiplication_tabel  , 'X' , i  , '=' , multiplication_tabel* i )"
   ]
  },
  {
   "cell_type": "code",
   "execution_count": 10,
   "id": "6ca0484f",
   "metadata": {},
   "outputs": [],
   "source": [
    "def cude_of_number():\n",
    "    print(\"hello  , Welcome Sir\")\n",
    "    input_num  = int(input(\"Enter a Number To print The factorial  \"))\n",
    "    result = 1 \n",
    "    for i in range(1 ,  input_num+1  ) :\n",
    "        result = result * i \n",
    "    print('factorial of the ' , input_num , 'is' ,  result)\n",
    "    result = 1  \n",
    "\n",
    "\n"
   ]
  },
  {
   "cell_type": "code",
   "execution_count": 15,
   "id": "6cf1dd96",
   "metadata": {},
   "outputs": [
    {
     "name": "stdout",
     "output_type": "stream",
     "text": [
      "Enter a Passwordfe7fg\n",
      "Password Length Must Be Greater Than 12\n",
      "password is incorrect\n",
      "You can use Following password \n"
     ]
    }
   ],
   "source": [
    "import random \n",
    "import string\n",
    "def password_creater():\n",
    "    import random \n",
    "    import string\n",
    "    name = random.choices('0123456789', k=3)\n",
    "    #print(name)\n",
    "    capitals = random.choices(string.ascii_uppercase , k=1)\n",
    "    #print(capitals)\n",
    "    lower = random.choices(string.ascii_lowercase , k=6)\n",
    "    #print(lower)\n",
    "    special_char = random.choices(string.punctuation , k=2) \n",
    "    #print(special_char)\n",
    "    password = (name + capitals + lower + special_char)\n",
    "    random.shuffle(password)\n",
    "    passw =\"\".join(password) \n",
    "\n",
    "    print(passw)\n",
    "\n",
    "def password_generator():    \n",
    "    user_password = input(\"Enter a Password\")\n",
    "    is_smalCase = False \n",
    "    is_uppercase = False \n",
    "    is_special = False \n",
    "    is_number  = False \n",
    "    special = string.punctuation\n",
    "    if len(user_password) >= 12 :\n",
    "        is_smalCase = any(char.isupper() for char in user_password)\n",
    "        print(is_smalCase)\n",
    "        is_uppercase = any(char.islower() for char in user_password)\n",
    "        print(is_uppercase)\n",
    "        is_number = any(char.isdigit() for char in user_password)\n",
    "        print(is_number)\n",
    "        is_special = any(char in special for char in user_password)\n",
    "        print(is_special)\n",
    "\n",
    "    else :\n",
    "        print('Password Length Must Be Greater Than 12')\n",
    "\n",
    "\n",
    "    if is_smalCase and is_uppercase and is_special and is_number :\n",
    "        print(\"Pasword Meet Requirement\")\n",
    "    else :\n",
    "        print(\"password is incorrect\")\n",
    "        print(\"You can use Following password \" ,password_creater() )\n",
    "        \n",
    "password_generator()"
   ]
  },
  {
   "cell_type": "code",
   "execution_count": 17,
   "id": "d03b0643",
   "metadata": {},
   "outputs": [],
   "source": [
    "def fabinoci():\n",
    "    \n",
    "    number =  int(input(\"Enter a Number To Find The Fabinoci \"))\n",
    "\n",
    "    f_num = 0 \n",
    "    l_num = 1 \n",
    "    result = 0 \n",
    "\n",
    "    for i in range(number)  :\n",
    "        print(f_num)\n",
    "        result = f_num + l_num\n",
    "        f_num = l_num \n",
    "        l_num = result "
   ]
  },
  {
   "cell_type": "code",
   "execution_count": 19,
   "id": "33e16c09",
   "metadata": {},
   "outputs": [],
   "source": [
    "def factorial():\n",
    "    print(\"hello  , Welcome Sir\")\n",
    "    input_num  = int(input(\"Enter a Number To print The factorial  \"))\n",
    "    result = 1 \n",
    "    for i in range(1 ,  input_num+1  ) :\n",
    "        result = result * i \n",
    "    print('factorial of the ' , input_num , 'is' ,  result)\n",
    "    result = 1  \n",
    "\n",
    "\n"
   ]
  },
  {
   "cell_type": "code",
   "execution_count": 20,
   "id": "a0a6a116",
   "metadata": {},
   "outputs": [],
   "source": [
    "import time \n",
    "def coundown():\n",
    "    minites = int(input(\"enter a number of minites \"))\n",
    "    seconds = int(input(\"enter a number of seconds \"))\n",
    "    total_second =  minites * 60 + seconds \n",
    "    for i in range (total_second , 0 ,-1)  :\n",
    "        minis = i // 60 \n",
    "        secs = i % 60 \n",
    "        timer_display = '{:02d}:{:02d}'.format(minis , secs)\n",
    "        print(timer_display , end='\\r')\n",
    "        time.sleep(1)\n",
    "\n",
    "    print(\"time up\")\n",
    "    "
   ]
  },
  {
   "cell_type": "code",
   "execution_count": 22,
   "id": "4b1f0282",
   "metadata": {},
   "outputs": [
    {
     "name": "stdout",
     "output_type": "stream",
     "text": [
      "Note: you may need to restart the kernel to use updated packages.\n"
     ]
    },
    {
     "name": "stderr",
     "output_type": "stream",
     "text": [
      "ERROR: Could not find a version that satisfies the requirement tkinter (from versions: none)\n",
      "ERROR: No matching distribution found for tkinter\n"
     ]
    }
   ],
   "source": [
    "pip install tkinter"
   ]
  },
  {
   "cell_type": "code",
   "execution_count": 1,
   "id": "e1bf1b27",
   "metadata": {},
   "outputs": [],
   "source": [
    "import tkinter as tk"
   ]
  },
  {
   "cell_type": "code",
   "execution_count": null,
   "id": "0067baec",
   "metadata": {},
   "outputs": [],
   "source": [
    "import tkinter as tk\n",
    "\n",
    "window = tk.Tk()  # Create a Tkinter window\n",
    "\n",
    "window.mainloop()  # Enter the Tkinter event loop\n"
   ]
  },
  {
   "cell_type": "code",
   "execution_count": null,
   "id": "c9ce545d",
   "metadata": {},
   "outputs": [],
   "source": []
  }
 ],
 "metadata": {
  "kernelspec": {
   "display_name": "Python 3 (ipykernel)",
   "language": "python",
   "name": "python3"
  },
  "language_info": {
   "codemirror_mode": {
    "name": "ipython",
    "version": 3
   },
   "file_extension": ".py",
   "mimetype": "text/x-python",
   "name": "python",
   "nbconvert_exporter": "python",
   "pygments_lexer": "ipython3",
   "version": "3.11.5"
  }
 },
 "nbformat": 4,
 "nbformat_minor": 5
}
