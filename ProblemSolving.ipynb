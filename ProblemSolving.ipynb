{
 "cells": [
  {
   "cell_type": "code",
   "execution_count": 33,
   "id": "d200e2f8",
   "metadata": {},
   "outputs": [],
   "source": [
    "#1 human year =  7 dog year \n",
    "def calculate_dog_years():\n",
    "    human_age = entry.get()\n",
    "    #first two human year is equal to 10.5 \n",
    "    user_input = int(human_age)\n",
    "    dog_age = 0\n",
    "    if user_input <  0 :\n",
    "        result_label.config(text=\"Age Must be greater tahn 0\")\n",
    "    elif user_input <= 2 :\n",
    "        dog_age = user_input * 10.5 \n",
    "        result_label.config(text=f\"Age of Dog is {dog_age}\")\n",
    "    elif user_input > 2 :\n",
    "        dog_age = 21 + (user_input - 2) * 4 \n",
    "        result_label.config(text=f\"Age of Dog is {dog_age}\")\n",
    "    else : \n",
    "         result_label.config(text=\"invalid input\")\n",
    "\n",
    "import tkinter as tk\n",
    "\n",
    "window = tk.Tk()\n",
    "window.title(\"Dog Age Counter\")\n",
    "window.geometry('500x500')\n",
    "tk.Label(window,text= \"Dog Age Calculator \", font=('Helvetica',22)).place(x=200,y=200)\n",
    "label = tk.Label(window, text=\"Enter a Age Here \").place(x=180 , y=250)\n",
    "entry = tk.Entry(window)\n",
    "entry.place(x=180, y=280)\n",
    "result_label = tk.Label(window , text=\"\")\n",
    "result_label.place(x=180,y=330)\n",
    "tk.Button(window,text=\"Dog Age Calculator \", command=calculate_dog_years,  height=5 , width=15 ).place(x=180,y=400)\n",
    "window.mainloop()\n"
   ]
  },
  {
   "cell_type": "code",
   "execution_count": 16,
   "id": "3d6772f6",
   "metadata": {},
   "outputs": [],
   "source": []
  },
  {
   "cell_type": "code",
   "execution_count": null,
   "id": "dd4e8b4e",
   "metadata": {},
   "outputs": [],
   "source": []
  }
 ],
 "metadata": {
  "kernelspec": {
   "display_name": "Python 3 (ipykernel)",
   "language": "python",
   "name": "python3"
  },
  "language_info": {
   "codemirror_mode": {
    "name": "ipython",
    "version": 3
   },
   "file_extension": ".py",
   "mimetype": "text/x-python",
   "name": "python",
   "nbconvert_exporter": "python",
   "pygments_lexer": "ipython3",
   "version": "3.11.5"
  }
 },
 "nbformat": 4,
 "nbformat_minor": 5
}
