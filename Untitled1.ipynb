{
 "cells": [
  {
   "cell_type": "code",
   "execution_count": 31,
   "id": "ecbd218e",
   "metadata": {},
   "outputs": [
    {
     "name": "stdout",
     "output_type": "stream",
     "text": [
      "Enter a Length of Password You Want 12\n",
      "z<4fL2DS3rm_\n"
     ]
    }
   ],
   "source": [
    "import random\n",
    "import string\n",
    "no_of_digits =  int(input(\"Enter a Length of Password You Want \"))\n",
    "digits =  random.choices(string.digits , k=2 )\n",
    "upper_case = random.choices(string.ascii_uppercase , k=2 )\n",
    "lower_case = random.choices(string.ascii_lowercase , k=2)\n",
    "special_char =  random.choices(string.punctuation  , k=2 )\n",
    "\n",
    "basic_password =  digits +  upper_case + lower_case + special_char \n",
    "\n",
    "length = len(basic_password)\n",
    "\n",
    "remaining_length = no_of_digits - length\n",
    "for i in range(remaining_length) :\n",
    "    #basic_password.append(random.choice(\"abcdefghijklmnopqrst1234567890!@#$^&*()\"))\n",
    "    basic_password.append(random.choice(string.digits+string.ascii_uppercase+string.ascii_lowercase+string.punctuation))\n",
    "\n",
    "random.shuffle(basic_password)\n",
    "pasw = \"\".join(basic_password)\n",
    "print(pasw)"
   ]
  },
  {
   "cell_type": "code",
   "execution_count": 28,
   "id": "c2338a1e",
   "metadata": {},
   "outputs": [
    {
     "name": "stdout",
     "output_type": "stream",
     "text": [
      "['R', '(', '{', '1', 'g', '2', 'i', 'u', '1', 's', 'd', 'R']\n"
     ]
    }
   ],
   "source": [
    "print(basic_password)"
   ]
  },
  {
   "cell_type": "code",
   "execution_count": 32,
   "id": "8cb0c2d0",
   "metadata": {},
   "outputs": [
    {
     "name": "stdout",
     "output_type": "stream",
     "text": [
      "Enter the number of seconds for the countdown: 30\n",
      "stop1\n"
     ]
    }
   ],
   "source": [
    "import time\n",
    "\n",
    "def countdown(time_sec):\n",
    "    while time_sec:\n",
    "        mins, secs = divmod(time_sec, 60)\n",
    "        timeformat = '{:02d}:{:02d}'.format(mins, secs)\n",
    "        print(timeformat, end='\\r')  # Overwrite the output for each iteration\n",
    "        time.sleep(1)\n",
    "        time_sec -= 1\n",
    "    print(\"stop\")\n",
    "\n",
    "# Get the input from the user\n",
    "try:\n",
    "    time_input = int(input(\"Enter the number of seconds for the countdown: \"))\n",
    "    countdown(time_input)\n",
    "except ValueError:\n",
    "    print(\"Invalid input. Please enter a positive integer for the countdown.\")\n"
   ]
  },
  {
   "cell_type": "code",
   "execution_count": 33,
   "id": "eb425b62",
   "metadata": {},
   "outputs": [
    {
     "name": "stdout",
     "output_type": "stream",
     "text": [
      "Formatted time: 03:25:45\n"
     ]
    }
   ],
   "source": [
    "def seconds_to_hms(seconds):\n",
    "    hours, remainder = divmod(seconds, 3600)\n",
    "    minutes, seconds = divmod(remainder, 60)\n",
    "    return f\"{hours:02d}:{minutes:02d}:{seconds:02d}\"\n",
    "\n",
    "# Example usage:\n",
    "total_seconds = 12345\n",
    "formatted_time = seconds_to_hms(total_seconds)\n",
    "print(f\"Formatted time: {formatted_time}\")\n"
   ]
  },
  {
   "cell_type": "code",
   "execution_count": null,
   "id": "1caddd1f",
   "metadata": {},
   "outputs": [],
   "source": []
  }
 ],
 "metadata": {
  "kernelspec": {
   "display_name": "Python 3 (ipykernel)",
   "language": "python",
   "name": "python3"
  },
  "language_info": {
   "codemirror_mode": {
    "name": "ipython",
    "version": 3
   },
   "file_extension": ".py",
   "mimetype": "text/x-python",
   "name": "python",
   "nbconvert_exporter": "python",
   "pygments_lexer": "ipython3",
   "version": "3.11.5"
  }
 },
 "nbformat": 4,
 "nbformat_minor": 5
}
